{
 "cells": [
  {
   "cell_type": "code",
   "execution_count": 15,
   "id": "7d4340a7-9d2c-4589-9731-a8bf89afc85f",
   "metadata": {},
   "outputs": [],
   "source": [
    "from experiments.github import get_github_token\n",
    "from experiments.github import GitHubV3\n",
    "from experiments.client import retry_requests\n",
    "from experiments.logger import setup_logger\n",
    "from experiments.code_search.listup_repos import has_next_link\n",
    "from rich import print\n",
    "import pandas as pd\n",
    "import hashlib\n",
    "import time\n",
    "import datetime\n",
    "import json"
   ]
  },
  {
   "cell_type": "code",
   "execution_count": 2,
   "id": "152d26de-53b7-4aa3-aa92-f9d6208a02f0",
   "metadata": {},
   "outputs": [],
   "source": [
    "def create_query(keyword: str, language: str, size_min: int, size_max: int) -> str:\n",
    "    query = f\"{keyword} in:file language:{language} size:{size_min}..{size_max}\"\n",
    "    return query"
   ]
  },
  {
   "cell_type": "code",
   "execution_count": 3,
   "id": "24ec0130-7ee7-4033-81c7-98cbd108224f",
   "metadata": {},
   "outputs": [],
   "source": [
    "dt_now = datetime.datetime.now().isoformat()\n",
    "logger = setup_logger(__name__, logfile=f\"log-{dt_now}.txt\") "
   ]
  },
  {
   "cell_type": "code",
   "execution_count": 4,
   "id": "f639326c-f041-4f81-8274-09acf4f12b7b",
   "metadata": {},
   "outputs": [],
   "source": [
    "gh = GitHubV3(token=get_github_token())\n",
    "search_code = retry_requests(gh.search_code, logger=logger)"
   ]
  },
  {
   "cell_type": "code",
   "execution_count": 12,
   "id": "8eab1f5e-7b60-4204-a6fa-2b93c20494f3",
   "metadata": {},
   "outputs": [],
   "source": [
    "keyword = '\"Here Be Dragons\"'\n",
    "language = \"c\"\n",
    "# size_min = 0\n",
    "# size_max = 1000000\n",
    "size_min = 4000\n",
    "size_max = 5000\n",
    "prev_size_min = -1\n",
    "prev_size_max = -1"
   ]
  },
  {
   "cell_type": "code",
   "execution_count": 13,
   "id": "f3107e1e-2ff5-4aee-88d0-d4a7ba5f11a9",
   "metadata": {},
   "outputs": [
    {
     "data": {
      "text/plain": [
       "'\"Here Be Dragons\" in:file language:c size:4000..5000'"
      ]
     },
     "execution_count": 13,
     "metadata": {},
     "output_type": "execute_result"
    }
   ],
   "source": [
    "query = create_query(keyword, language, size_min, size_max)\n",
    "# query = f\"{keyword} in:file language:{language} size:{size_min}..{size_max}\"\n",
    "query"
   ]
  },
  {
   "cell_type": "code",
   "execution_count": 16,
   "id": "9a323880-b0bf-4621-8b29-7c87946f0076",
   "metadata": {},
   "outputs": [
    {
     "ename": "KeyboardInterrupt",
     "evalue": "",
     "output_type": "error",
     "traceback": [
      "\u001b[0;31m---------------------------------------------------------------------------\u001b[0m",
      "\u001b[0;31mKeyboardInterrupt\u001b[0m                         Traceback (most recent call last)",
      "\u001b[0;32m/var/folders/gp/231233rn3xq4nmm00ch8shdc0000gn/T/ipykernel_29653/2812539321.py\u001b[0m in \u001b[0;36m<module>\u001b[0;34m\u001b[0m\n\u001b[1;32m      4\u001b[0m     \u001b[0mlogger\u001b[0m\u001b[0;34m.\u001b[0m\u001b[0mdebug\u001b[0m\u001b[0;34m(\u001b[0m\u001b[0;34mf\"try: {query}\"\u001b[0m\u001b[0;34m)\u001b[0m\u001b[0;34m\u001b[0m\u001b[0;34m\u001b[0m\u001b[0m\n\u001b[1;32m      5\u001b[0m \u001b[0;34m\u001b[0m\u001b[0m\n\u001b[0;32m----> 6\u001b[0;31m     \u001b[0mres\u001b[0m \u001b[0;34m=\u001b[0m \u001b[0msearch_code\u001b[0m\u001b[0;34m(\u001b[0m\u001b[0mquery\u001b[0m\u001b[0;34m,\u001b[0m \u001b[0mper_page\u001b[0m\u001b[0;34m=\u001b[0m\u001b[0;36m1\u001b[0m\u001b[0;34m,\u001b[0m \u001b[0mpage\u001b[0m\u001b[0;34m=\u001b[0m\u001b[0;36m1\u001b[0m\u001b[0;34m,\u001b[0m \u001b[0mtext_match\u001b[0m\u001b[0;34m=\u001b[0m\u001b[0;32mFalse\u001b[0m\u001b[0;34m)\u001b[0m\u001b[0;34m\u001b[0m\u001b[0;34m\u001b[0m\u001b[0m\n\u001b[0m\u001b[1;32m      7\u001b[0m     \u001b[0mlogger\u001b[0m\u001b[0;34m.\u001b[0m\u001b[0mdebug\u001b[0m\u001b[0;34m(\u001b[0m\u001b[0;34m\"Request succeeded.\"\u001b[0m\u001b[0;34m)\u001b[0m\u001b[0;34m\u001b[0m\u001b[0;34m\u001b[0m\u001b[0m\n\u001b[1;32m      8\u001b[0m \u001b[0;34m\u001b[0m\u001b[0m\n",
      "\u001b[0;32m~/Repositories/github.com/Hiroya-W/experiments/experiments/client/retry_wrapper.py\u001b[0m in \u001b[0;36mwrapper\u001b[0;34m(*args, **kwargs)\u001b[0m\n\u001b[1;32m     52\u001b[0m             \u001b[0;32melse\u001b[0m\u001b[0;34m:\u001b[0m\u001b[0;34m\u001b[0m\u001b[0;34m\u001b[0m\u001b[0m\n\u001b[1;32m     53\u001b[0m                 \u001b[0mprint\u001b[0m\u001b[0;34m(\u001b[0m\u001b[0;34mf\"{res.status_code} error. Retry after {sleep_time} sec.\"\u001b[0m\u001b[0;34m)\u001b[0m\u001b[0;34m\u001b[0m\u001b[0;34m\u001b[0m\u001b[0m\n\u001b[0;32m---> 54\u001b[0;31m             \u001b[0mtime\u001b[0m\u001b[0;34m.\u001b[0m\u001b[0msleep\u001b[0m\u001b[0;34m(\u001b[0m\u001b[0msleep_time\u001b[0m\u001b[0;34m)\u001b[0m\u001b[0;34m\u001b[0m\u001b[0;34m\u001b[0m\u001b[0m\n\u001b[0m\u001b[1;32m     55\u001b[0m \u001b[0;34m\u001b[0m\u001b[0m\n\u001b[1;32m     56\u001b[0m     \u001b[0;32mreturn\u001b[0m \u001b[0mwrapper\u001b[0m\u001b[0;34m\u001b[0m\u001b[0;34m\u001b[0m\u001b[0m\n",
      "\u001b[0;31mKeyboardInterrupt\u001b[0m: "
     ]
    }
   ],
   "source": [
    "loop = 0\n",
    "while True:\n",
    "    query = create_query(keyword, language, size_min, size_max)\n",
    "    logger.debug(f\"try: {query}\")\n",
    "    \n",
    "    res = search_code(query, per_page=1, page=1, text_match=False)\n",
    "    logger.debug(\"Request succeeded.\")\n",
    "    \n",
    "    res_json = res.json()\n",
    "    total_count = res_json.get(\"total_count\")\n",
    "\n",
    "    if total_count == 0:\n",
    "        # これ以上大きいファイルは見つからないので終了する\n",
    "        if prev_size_min == -1 or prev_size_max == -1:\n",
    "            break\n",
    "        # prev_size_min, prev_size_max では、1000個以下に絞れなかったが、\n",
    "        # それ以上範囲を絞ってしまうと、0個になってしまう。\n",
    "        # 仕方ないので、1000個を超えてしまうが、前回の範囲で検索してしまう\n",
    "        size_min = prev_size_min\n",
    "        size_max = prev_size_max\n",
    "        logger.warning(f\"WARN: total_count is over 1000.({prev_total_count})\")\n",
    "    elif total_count > 1000:\n",
    "        # 1000個以上あった場合\n",
    "        if size_min == size_max:\n",
    "            # サイズの範囲を小さくしても、1000個以下に絞れなかったのでそのまま実行する\n",
    "            logger.warning(f\"WARN: total_count is over 1000.({total_count})\")\n",
    "        else:\n",
    "            # サイズを小さくして、total_countを調べ直す\n",
    "            prev_size_min, prev_size_max = size_min, size_max\n",
    "            prev_total_count = total_count\n",
    "            size_max = (size_min + size_max) // 2\n",
    "            time.sleep(1)\n",
    "            continue\n",
    "    \n",
    "    items = []\n",
    "    for page in range(1,11):\n",
    "        logger.debug(f\"try: {query}, page: {page}\")\n",
    "        res = search_code(query, per_page=100, page=page, text_match=True)\n",
    "        logger.debug(\"Request succeeded.\")\n",
    "        res_json = res.json()\n",
    "        items.extend(res_json.get(\"items\"))\n",
    "        \n",
    "        if not has_next_link(res.headers)\n",
    "            break\n",
    "        time.sleep(1)\n",
    "        \n",
    "    # ファイルへ出力する\n",
    "    d = {\"items\": items}\n",
    "    with open(f\"Here_Be_Dragons_C/{loop}.json\", \"w\") as f:\n",
    "        json.dump(d, f, indent=4, ensure_ascii=False)\n",
    "    logger.debug(f\"json dump: {loop}.json\")\n",
    "    loop += 1\n",
    "        \n",
    "    if size_min == size_max:\n",
    "        size_min = size_max + 1\n",
    "    else:\n",
    "        size_min = size_max\n",
    "    \n",
    "    size_max *= 10\n",
    "    prev_size_min = -1\n",
    "    prev_size_max = -1"
   ]
  },
  {
   "cell_type": "code",
   "execution_count": null,
   "id": "81cf52f4-e504-4401-a081-50172ebd9896",
   "metadata": {},
   "outputs": [],
   "source": []
  }
 ],
 "metadata": {
  "kernelspec": {
   "display_name": "Python 3 (ipykernel)",
   "language": "python",
   "name": "python3"
  },
  "language_info": {
   "codemirror_mode": {
    "name": "ipython",
    "version": 3
   },
   "file_extension": ".py",
   "mimetype": "text/x-python",
   "name": "python",
   "nbconvert_exporter": "python",
   "pygments_lexer": "ipython3",
   "version": "3.8.10"
  }
 },
 "nbformat": 4,
 "nbformat_minor": 5
}
